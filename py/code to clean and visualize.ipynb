{
 "cells": [
  {
   "cell_type": "code",
   "execution_count": 6,
   "metadata": {},
   "outputs": [],
   "source": [
    "import pandas as pd\n",
    "import numpy as np\n",
    "import os\n",
    "import csv"
   ]
  },
  {
   "cell_type": "markdown",
   "metadata": {},
   "source": [
    "# 1. Define File Paths"
   ]
  },
  {
   "cell_type": "code",
   "execution_count": 7,
   "metadata": {},
   "outputs": [],
   "source": [
    "LANGUOID_CSV = '/Users/mehmetsundu/mysql_files/languoid.csv'\n",
    "LANGUAGE_CSV = '/Users/mehmetsundu/mysql_files/language.csv'\n",
    "LANGUAGES_AND_DIALECTS_GEO_CSV = '/Users/mehmetsundu/mysql_files/languages-and-dialects-geo.csv'"
   ]
  },
  {
   "cell_type": "code",
   "execution_count": 8,
   "metadata": {},
   "outputs": [],
   "source": [
    "# Output directories for cleaned data\n",
    "CLEANED_DATA_DIR = '/Users/mehmetsundu/mysql_files/cleaned_data'\n",
    "os.makedirs(CLEANED_DATA_DIR, exist_ok=True)"
   ]
  },
  {
   "cell_type": "markdown",
   "metadata": {},
   "source": [
    "# 2. Preprocess CSV Files to Standardize Quotes"
   ]
  },
  {
   "cell_type": "code",
   "execution_count": 9,
   "metadata": {},
   "outputs": [
    {
     "name": "stdout",
     "output_type": "stream",
     "text": [
      "Preprocessing of CSV files completed.\n"
     ]
    }
   ],
   "source": [
    "def preprocess_csv(input_path, output_path):\n",
    "    \"\"\"\n",
    "    Preprocesses a CSV file by standardizing quotes and escaping delimiters.\n",
    "    \"\"\"\n",
    "    with open(input_path, 'r', encoding='utf-8') as infile, \\\n",
    "         open(output_path, 'w', encoding='utf-8', newline='') as outfile:\n",
    "        reader = csv.reader(infile, delimiter=',', quotechar=\"'\", escapechar='\\\\')\n",
    "        writer = csv.writer(outfile, delimiter=',', quotechar='\"', quoting=csv.QUOTE_MINIMAL)\n",
    "        for row in reader:\n",
    "            writer.writerow(row)\n",
    "\n",
    "# Preprocess each CSV file\n",
    "preprocess_csv(LANGUOID_CSV, os.path.join(CLEANED_DATA_DIR, 'preprocessed_languoid.csv'))\n",
    "preprocess_csv(LANGUAGE_CSV, os.path.join(CLEANED_DATA_DIR, 'preprocessed_language.csv'))\n",
    "preprocess_csv(LANGUAGES_AND_DIALECTS_GEO_CSV, os.path.join(CLEANED_DATA_DIR, 'preprocessed_languages_and_dialects_geo.csv'))\n",
    "\n",
    "print(\"Preprocessing of CSV files completed.\")\n",
    "\n",
    "# Update file paths to preprocessed files\n",
    "PREPROCESSED_LANGUOID_CSV = os.path.join(CLEANED_DATA_DIR, 'preprocessed_languoid.csv')\n",
    "PREPROCESSED_LANGUAGE_CSV = os.path.join(CLEANED_DATA_DIR, 'preprocessed_language.csv')\n",
    "PREPROCESSED_LANGUAGES_AND_DIALECTS_GEO_CSV = os.path.join(CLEANED_DATA_DIR, 'preprocessed_languages_and_dialects_geo.csv')\n",
    "\n"
   ]
  },
  {
   "cell_type": "markdown",
   "metadata": {},
   "source": [
    "# 3. Read Preprocessed CSV Files with Enhanced Error Handling\n"
   ]
  },
  {
   "cell_type": "code",
   "execution_count": null,
   "metadata": {},
   "outputs": [],
   "source": [
    "# Function to read CSV with single quote enclosure and handle newlines within fields\n",
    "def read_csv_single_quote_with_logging(path, **kwargs):\n",
    "    bad_lines = []\n",
    "\n",
    "    def bad_line_handler(bad_line):\n",
    "        bad_lines.append(bad_line)\n",
    "        return None  # Skip the bad line\n",
    "\n",
    "    df = pd.read_csv(\n",
    "        path,\n",
    "        sep=',',\n",
    "        quotechar='\"',              # Updated to double quotes after preprocessing\n",
    "        escapechar='\\\\',\n",
    "        encoding='utf-8',\n",
    "        engine='python',\n",
    "        on_bad_lines=bad_line_handler,\n",
    "        **kwargs\n",
    "    )\n",
    "    return df, bad_lines\n",
    "\n",
    "# a. Read preprocessed_languoid.csv\n",
    "try:\n",
    "    languoid_df, languoid_bad = read_csv_single_quote_with_logging(\n",
    "        PREPROCESSED_LANGUOID_CSV,\n",
    "        dtype={\n",
    "            'id': str,\n",
    "            'name': str,\n",
    "            'level': str,\n",
    "            'status': str,\n",
    "            'family_pk': str,\n",
    "            'father_pk': str,\n",
    "            'hid': str,\n",
    "            'jsondata': str,\n",
    "            'newick': str,\n",
    "            'pk': str\n",
    "        },\n",
    "        na_values=['', 'NULL', 'NaN']\n",
    "    )\n",
    "    print(\"Successfully loaded preprocessed_languoid.csv\")\n",
    "    if languoid_bad:\n",
    "        print(f\"Found {len(languoid_bad)} bad lines in preprocessed_languoid.csv:\")\n",
    "        for line in languoid_bad:\n",
    "            print(line)\n",
    "except Exception as e:\n",
    "    print(f\"Error loading preprocessed_languoid.csv: {e}\")\n",
    "\n",
    "# b. Read preprocessed_language.csv\n",
    "try:\n",
    "    language_df, language_bad = read_csv_single_quote_with_logging(\n",
    "        PREPROCESSED_LANGUAGE_CSV,\n",
    "        dtype={\n",
    "            'glottocode': str,\n",
    "            'Name': str,\n",
    "            'iso_code': str,\n",
    "            'family': str,\n",
    "            'genus': str,\n",
    "            'macroarea': str,\n",
    "            'countrycodes': str\n",
    "        },\n",
    "        na_values=['', 'NULL', 'NaN']\n",
    "    )\n",
    "    print(\"Successfully loaded preprocessed_language.csv\")\n",
    "    if language_bad:\n",
    "        print(f\"Found {len(language_bad)} bad lines in preprocessed_language.csv:\")\n",
    "        for line in language_bad:\n",
    "            print(line)\n",
    "except Exception as e:\n",
    "    print(f\"Error loading preprocessed_language.csv: {e}\")\n",
    "\n",
    "# c. Read preprocessed_languages-and-dialects-geo.csv\n",
    "try:\n",
    "    languages_geo_df, languages_geo_bad = read_csv_single_quote_with_logging(\n",
    "        PREPROCESSED_LANGUAGES_AND_DIALECTS_GEO_CSV,\n",
    "        dtype={\n",
    "            'glottocode': str,\n",
    "            'name': str,\n",
    "            'isocodes': str,\n",
    "            'level': str,\n",
    "            'macroarea': str,\n",
    "            'latitude': float,\n",
    "            'longitude': float\n",
    "        },\n",
    "        na_values=['', 'NULL', 'NaN']\n",
    "    )\n",
    "    print(\"Successfully loaded preprocessed_languages-and-dialects-geo.csv\")\n",
    "    if languages_geo_bad:\n",
    "        print(f\"Found {len(languages_geo_bad)} bad lines in preprocessed_languages-and-dialects-geo.csv:\")\n",
    "        for line in languages_geo_bad:\n",
    "            print(line)\n",
    "except Exception as e:\n",
    "    print(f\"Error loading preprocessed_languages-and-dialects-geo.csv: {e}\")"
   ]
  },
  {
   "cell_type": "markdown",
   "metadata": {},
   "source": [
    "# 4. Clean and Standardize Data\n"
   ]
  },
  {
   "cell_type": "code",
   "execution_count": null,
   "metadata": {},
   "outputs": [],
   "source": [
    "# a. Clean 'status' field in languoid_df\n",
    "def clean_status(status):\n",
    "    if pd.isnull(status):\n",
    "        return 'unknown'\n",
    "    # Remove single quotes and newline characters, trim whitespace, convert to lowercase\n",
    "    return status.replace(\"'\", \"\").replace(\"\\n\", \"\").strip().lower()\n",
    "\n",
    "languoid_df['status_cleaned'] = languoid_df['status'].apply(clean_status)\n",
    "\n",
    "# b. Clean 'family' and 'genus' in language_df\n",
    "language_df['family'] = language_df['family'].str.strip().str.lower()\n",
    "language_df['genus'] = language_df['genus'].str.strip().str.lower()\n",
    "\n",
    "# c. Clean 'name' fields by trimming whitespace\n",
    "languoid_df['name'] = languoid_df['name'].str.strip()\n",
    "language_df['Name'] = language_df['Name'].str.strip()\n",
    "languages_geo_df['name'] = languages_geo_df['name'].str.strip()\n",
    "\n",
    "# d. Handle missing latitude and longitude in language_df and languages_geo_df\n",
    "# Already handled by na_values during reading\n",
    "\n",
    "# e. Verify and handle duplicate Glottocodes within each dataset\n",
    "\n",
    "# Function to check duplicates\n",
    "def check_duplicates(df, column, dataset_name):\n",
    "    duplicates = df[df[column].duplicated(keep=False)]\n",
    "    if not duplicates.empty:\n",
    "        print(f\"Duplicate Glottocodes found in {dataset_name}:\")\n",
    "        print(duplicates[[column]].drop_duplicates())\n",
    "    else:\n",
    "        print(f\"No duplicate Glottocodes in {dataset_name}.\")\n",
    "\n",
    "check_duplicates(languoid_df, 'id', 'preprocessed_languoid.csv')\n",
    "check_duplicates(language_df, 'glottocode', 'preprocessed_language.csv')\n",
    "check_duplicates(languages_geo_df, 'glottocode', 'preprocessed_languages-and-dialects-geo.csv')\n",
    "\n",
    "# Assuming no duplicates found; if duplicates exist, decide how to handle them (e.g., keep first, aggregate)\n",
    "\n",
    "# f. Drop duplicates if any (keeping the first occurrence)\n",
    "languoid_df = languoid_df.drop_duplicates(subset='id', keep='first')\n",
    "language_df = language_df.drop_duplicates(subset='glottocode', keep='first')\n",
    "languages_geo_df = languages_geo_df.drop_duplicates(subset='glottocode', keep='first')\n"
   ]
  },
  {
   "cell_type": "markdown",
   "metadata": {},
   "source": [
    "# 5. Validate Glottocode Consistency Across Datasets\n"
   ]
  },
  {
   "cell_type": "code",
   "execution_count": null,
   "metadata": {},
   "outputs": [],
   "source": [
    "# a. Ensure that Glottocode in language_df exists in languoid_df\n",
    "missing_in_languoid = language_df[~language_df['glottocode'].isin(languoid_df['id'])]\n",
    "if not missing_in_languoid.empty:\n",
    "    print(\"Glottocodes in language.csv not found in languoid.csv:\")\n",
    "    print(missing_in_languoid[['glottocode', 'Name']])\n",
    "else:\n",
    "    print(\"All Glottocodes in language.csv are present in languoid.csv.\")\n",
    "\n",
    "# b. Ensure that Glottocode in languages_geo_df exists in languoid_df\n",
    "missing_in_languoid_geo = languages_geo_df[~languages_geo_df['glottocode'].isin(languoid_df['id'])]\n",
    "if not missing_in_languoid_geo.empty:\n",
    "    print(\"Glottocodes in languages-and-dialects-geo.csv not found in languoid.csv:\")\n",
    "    print(missing_in_languoid_geo[['glottocode', 'name']])\n",
    "else:\n",
    "    print(\"All Glottocodes in languages-and-dialects-geo.csv are present in languoid.csv.\")"
   ]
  },
  {
   "cell_type": "markdown",
   "metadata": {},
   "source": [
    "# 6. Merge Datasets on Glottocode\n"
   ]
  },
  {
   "cell_type": "code",
   "execution_count": 13,
   "metadata": {},
   "outputs": [],
   "source": [
    "# a. Merge language_df with languoid_df on Glottocode\n",
    "merged_df = pd.merge(\n",
    "    language_df,\n",
    "    languoid_df[['id', 'status_cleaned']],\n",
    "    how='left',\n",
    "    left_on='glottocode',\n",
    "    right_on='id',\n",
    "    validate='many_to_one'  # Each glottocode in language_df should map to one in languoid_df\n",
    ")\n",
    "\n",
    "# b. Merge with languages_geo_df to include geographical data\n",
    "merged_df = pd.merge(\n",
    "    merged_df,\n",
    "    languages_geo_df[['glottocode', 'latitude', 'longitude', 'macroarea']],\n",
    "    how='left',\n",
    "    on='glottocode',\n",
    "    suffixes=('_wals', '_geo'),\n",
    "    validate='many_to_one'\n",
    ")"
   ]
  },
  {
   "cell_type": "markdown",
   "metadata": {},
   "source": [
    "# 7. Final Cleaning and Preparation"
   ]
  },
  {
   "cell_type": "code",
   "execution_count": 14,
   "metadata": {},
   "outputs": [],
   "source": [
    "# a. Handle missing 'status_cleaned' by assigning 'unknown'\n",
    "merged_df['status_cleaned'] = merged_df['status_cleaned'].fillna('unknown')\n",
    "\n",
    "# b. Select and rename necessary columns for MySQL\n",
    "final_df = merged_df.rename(columns={\n",
    "    'glottocode': 'Language_ID',\n",
    "    'Name': 'Language_Name',\n",
    "    'iso_code': 'ISO_Code',\n",
    "    'family': 'Family_Name',\n",
    "    'genus': 'Genus_Name',\n",
    "    'macroarea_wals': 'Macroarea_WALS',\n",
    "    'macroarea_geo': 'Macroarea_Geo',\n",
    "    'latitude_wals': 'Latitude_WALS',\n",
    "    'longitude_wals': 'Longitude_WALS',\n",
    "    'latitude_geo': 'Latitude_Geo',\n",
    "    'longitude_geo': 'Longitude_Geo',\n",
    "    'status_cleaned': 'Status'\n",
    "})\n",
    "\n",
    "# c. Consolidate latitude and longitude (prioritize geo data if available)\n",
    "final_df['Latitude'] = final_df['Latitude_Geo'].combine_first(final_df['Latitude_WALS'])\n",
    "final_df['Longitude'] = final_df['Longitude_Geo'].combine_first(final_df['Longitude_WALS'])\n",
    "\n",
    "# d. Consolidate macroarea (prioritize geo data if available)\n",
    "final_df['Macroarea'] = final_df['Macroarea_Geo'].combine_first(final_df['Macroarea_WALS'])\n",
    "\n",
    "# e. Select relevant columns\n",
    "final_df = final_df[[\n",
    "    'Language_ID',\n",
    "    'Language_Name',\n",
    "    'ISO_Code',\n",
    "    'Family_Name',\n",
    "    'Genus_Name',\n",
    "    'Status',\n",
    "    'Macroarea',\n",
    "    'Latitude',\n",
    "    'Longitude',\n",
    "    'countrycodes'\n",
    "]]\n",
    "\n",
    "# f. Handle missing Family or Genus names\n",
    "# You may choose to fill missing families/genera with 'unknown' or drop them\n",
    "final_df['Family_Name'] = final_df['Family_Name'].fillna('unknown')\n",
    "final_df['Genus_Name'] = final_df['Genus_Name'].fillna('unknown')"
   ]
  },
  {
   "cell_type": "markdown",
   "metadata": {},
   "source": [
    "# 8. Extract Families and Genera Tables"
   ]
  },
  {
   "cell_type": "code",
   "execution_count": 15,
   "metadata": {},
   "outputs": [],
   "source": [
    "# a. Extract unique families\n",
    "families_df = final_df[['Family_Name']].drop_duplicates().reset_index(drop=True)\n",
    "families_df['Family_ID'] = families_df.index + 1  # Assign unique Family_ID starting from 1\n",
    "\n",
    "# b. Extract unique genera with corresponding Family_ID\n",
    "# Merge to get Family_ID for each genus\n",
    "genera_df = final_df[['Genus_Name', 'Family_Name']].drop_duplicates().reset_index(drop=True)\n",
    "genera_df = pd.merge(\n",
    "    genera_df,\n",
    "    families_df,\n",
    "    on='Family_Name',\n",
    "    how='left',\n",
    "    validate='many_to_one'\n",
    ")\n",
    "genera_df = genera_df.rename(columns={'Family_ID': 'Family_ID'})\n",
    "genera_df['Genus_ID'] = genera_df.index + 1  # Assign unique Genus_ID starting from 1\n"
   ]
  },
  {
   "cell_type": "markdown",
   "metadata": {},
   "source": [
    "# 9. Assign Family_ID and Genus_ID to Languages\n"
   ]
  },
  {
   "cell_type": "code",
   "execution_count": 16,
   "metadata": {},
   "outputs": [],
   "source": [
    "# a. Merge final_df with families_df to get Family_ID\n",
    "final_df = pd.merge(\n",
    "    final_df,\n",
    "    families_df,\n",
    "    on='Family_Name',\n",
    "    how='left',\n",
    "    validate='many_to_one'\n",
    ")\n",
    "\n",
    "# b. Merge with genera_df to get Genus_ID\n",
    "final_df = pd.merge(\n",
    "    final_df,\n",
    "    genera_df[['Genus_Name', 'Genus_ID']],\n",
    "    on='Genus_Name',\n",
    "    how='left',\n",
    "    validate='many_to_one'\n",
    ")\n",
    "\n",
    "# c. Handle missing Family_ID or Genus_ID\n",
    "final_df['Family_ID'] = final_df['Family_ID'].fillna(0).astype(int)\n",
    "final_df['Genus_ID'] = final_df['Genus_ID'].fillna(0).astype(int)"
   ]
  },
  {
   "cell_type": "markdown",
   "metadata": {},
   "source": [
    "# 10. Export Cleaned Data to CSV for MySQL Loading"
   ]
  },
  {
   "cell_type": "code",
   "execution_count": 17,
   "metadata": {},
   "outputs": [
    {
     "name": "stdout",
     "output_type": "stream",
     "text": [
      "Exported Families.csv\n",
      "Exported Genera.csv\n",
      "Exported Languages.csv\n"
     ]
    }
   ],
   "source": [
    "# a. Export Families Table\n",
    "families_df.to_csv(\n",
    "    os.path.join(CLEANED_DATA_DIR, 'Families.csv'),\n",
    "    index=False,\n",
    "    columns=['Family_ID', 'Family_Name']\n",
    ")\n",
    "print(\"Exported Families.csv\")\n",
    "\n",
    "# b. Export Genera Table\n",
    "genera_export_df = genera_df[['Genus_ID', 'Genus_Name', 'Family_ID']]\n",
    "genera_export_df.to_csv(\n",
    "    os.path.join(CLEANED_DATA_DIR, 'Genera.csv'),\n",
    "    index=False\n",
    ")\n",
    "print(\"Exported Genera.csv\")\n",
    "\n",
    "# c. Export Languages Table\n",
    "languages_export_df = final_df.rename(columns={\n",
    "    'countrycodes': 'Countrycodes'\n",
    "})[['Language_ID', 'Language_Name', 'ISO_Code', 'Family_ID', 'Genus_ID', 'Status', 'Macroarea', 'Latitude', 'Longitude', 'Countrycodes']]\n",
    "\n",
    "languages_export_df.to_csv(\n",
    "    os.path.join(CLEANED_DATA_DIR, 'Languages.csv'),\n",
    "    index=False\n",
    ")\n",
    "print(\"Exported Languages.csv\")"
   ]
  },
  {
   "cell_type": "markdown",
   "metadata": {},
   "source": [
    "# 11. Summary of Cleaning Process\n"
   ]
  },
  {
   "cell_type": "code",
   "execution_count": 18,
   "metadata": {},
   "outputs": [
    {
     "name": "stdout",
     "output_type": "stream",
     "text": [
      "\n",
      "Data Cleaning Process Completed Successfully!\n",
      "Cleaned data exported to directory: /Users/mehmetsundu/mysql_files/cleaned_data\n"
     ]
    }
   ],
   "source": [
    "print(\"\\nData Cleaning Process Completed Successfully!\")\n",
    "print(f\"Cleaned data exported to directory: {CLEANED_DATA_DIR}\")"
   ]
  },
  {
   "cell_type": "code",
   "execution_count": 21,
   "metadata": {},
   "outputs": [
    {
     "name": "stdout",
     "output_type": "stream",
     "text": [
      "Index(['Family_Name', 'Genus_Name', 'Total_Languages', 'Endangered_Languages',\n",
      "       'Endangerment_Rate_Percentage'],\n",
      "      dtype='object')\n"
     ]
    },
    {
     "data": {
      "image/png": "[encoded data removed]",
      "text/plain": [
       "<Figure size 1200x800 with 1 Axes>"
      ]
     },
     "metadata": {},
     "output_type": "display_data"
    }
   ],
   "source": [
    "import pandas as pd\n",
    "import matplotlib.pyplot as plt\n",
    "import seaborn as sns\n",
    "\n",
    "# Load the exported CSV\n",
    "df = pd.read_csv('/Users/mehmetsundu/mysql_files/cleaned_data/endangerment_rates_per_family_genus.csv')\n",
    "\n",
    "# Rename columns to more meaningful names\n",
    "df.columns = ['Family_Name', 'Genus_Name', 'Total_Languages', 'Endangered_Languages', 'Endangerment_Rate_Percentage']\n",
    "\n",
    "# Check the column names to ensure they match\n",
    "print(df.columns)\n",
    "\n",
    "# Create a bar chart for the top 10 genera with highest endangerment rates\n",
    "top_10 = df.head(10)\n",
    "\n",
    "plt.figure(figsize=(12, 8))\n",
    "sns.barplot(x='Endangerment_Rate_Percentage', y='Genus_Name', data=top_10, palette='Reds_r')\n",
    "plt.title('Top 10 Genera by Language Endangerment Rate')\n",
    "plt.xlabel('Endangerment Rate (%)')\n",
    "plt.ylabel('Genus Name')\n",
    "plt.tight_layout()\n",
    "plt.show()\n"
   ]
  },
  {
   "cell_type": "code",
   "execution_count": 33,
   "metadata": {},
   "outputs": [],
   "source": [
    "column_names = [\n",
    "    'Language_ID', 'Language_Name', 'Family_Name', 'Genus_Name', \n",
    "    'Status', 'Macroarea', 'Latitude', 'Longitude'\n",
    "]\n",
    "data = pd.read_csv('/Users/mehmetsundu/mysql_files/cleaned_data/language_endangerment_data.csv', header=None, names=column_names)\n"
   ]
  },
  {
   "cell_type": "code",
   "execution_count": 34,
   "metadata": {},
   "outputs": [
    {
     "name": "stdout",
     "output_type": "stream",
     "text": [
      "Index(['Language_ID', 'Language_Name', 'Family_Name', 'Genus_Name', 'Status',\n",
      "       'Macroarea', 'Latitude', 'Longitude'],\n",
      "      dtype='object')\n"
     ]
    }
   ],
   "source": [
    "print(data.columns)"
   ]
  },
  {
   "cell_type": "code",
   "execution_count": 35,
   "metadata": {},
   "outputs": [],
   "source": [
    "data.columns = data.columns.str.strip()"
   ]
  },
  {
   "cell_type": "code",
   "execution_count": 36,
   "metadata": {},
   "outputs": [
    {
     "name": "stdout",
     "output_type": "stream",
     "text": [
      "Index(['Language_ID', 'Language_Name', 'Family_Name', 'Genus_Name', 'Status',\n",
      "       'Macroarea', 'Latitude', 'Longitude'],\n",
      "      dtype='object')\n"
     ]
    }
   ],
   "source": [
    "# Check the exact names\n",
    "print(data.columns)"
   ]
  },
  {
   "cell_type": "code",
   "execution_count": 37,
   "metadata": {},
   "outputs": [],
   "source": [
    "data['Latitude'] = pd.to_numeric(data['Latitude'], errors='coerce')\n",
    "data['Longitude'] = pd.to_numeric(data['Longitude'], errors='coerce')\n"
   ]
  },
  {
   "cell_type": "code",
   "execution_count": 39,
   "metadata": {},
   "outputs": [
    {
     "name": "stdout",
     "output_type": "stream",
     "text": [
      "Map has been saved as 'language_endangerment_map.html'\n"
     ]
    }
   ],
   "source": [
    "import folium\n",
    "\n",
    "# Create a base map centered at an average global location\n",
    "m = folium.Map(location=[0, 0], zoom_start=2)\n",
    "\n",
    "# Add points to the map for each language\n",
    "for _, row in data.iterrows():\n",
    "    folium.Marker(\n",
    "        location=[row['Latitude'], row['Longitude']],\n",
    "        popup=(\n",
    "            f\"<strong>Language:</strong> {row['Language_Name']}<br>\"\n",
    "            f\"<strong>Family:</strong> {row['Family_Name']}<br>\"\n",
    "            f\"<strong>Genus:</strong> {row['Genus_Name']}<br>\"\n",
    "            f\"<strong>Status:</strong> {row['Status']}<br>\"\n",
    "            f\"<strong>Macroarea:</strong> {row['Macroarea']}\"\n",
    "        ),\n",
    "        icon=folium.Icon(color='red' if 'endangered' in row['Status'] else 'blue')\n",
    "    ).add_to(m)\n",
    "\n",
    "# Save the map to an HTML file\n",
    "m.save('/Users/mehmetsundu/mysql_files/cleaned_data/language_endangerment_map.html')\n",
    "print(\"Map has been saved as 'language_endangerment_map.html'\")\n"
   ]
  }
 ],
 "metadata": {
  "kernelspec": {
   "display_name": "ml",
   "language": "python",
   "name": "python3"
  },
  "language_info": {
   "codemirror_mode": {
    "name": "ipython",
    "version": 3
   },
   "file_extension": ".py",
   "mimetype": "text/x-python",
   "name": "python",
   "nbconvert_exporter": "python",
   "pygments_lexer": "ipython3",
   "version": "3.11.8"
  }
 },
 "nbformat": 4,
 "nbformat_minor": 2
}
